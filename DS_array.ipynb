{
 "cells": [
  {
   "cell_type": "code",
   "execution_count": null,
   "metadata": {},
   "outputs": [],
   "source": [
    "Given an array & an integer k, find the maximum element for each and every contiguous sub array of size."
   ]
  },
  {
   "cell_type": "code",
   "execution_count": 1,
   "metadata": {},
   "outputs": [
    {
     "name": "stdout",
     "output_type": "stream",
     "text": [
      "[3, 3, 4, 5, 6]\n"
     ]
    }
   ],
   "source": [
    "def find_maximum(arr, k):\n",
    "    arr.sort()\n",
    "    return arr[arr.index(3):]\n",
    "print(find_maximum([1, 2, 3, 1, 4, 5, 2, 3, 6], k=3))\n"
   ]
  },
  {
   "cell_type": "code",
   "execution_count": null,
   "metadata": {},
   "outputs": [],
   "source": [
    "Count number of smaller elements on right of each element in an array."
   ]
  },
  {
   "cell_type": "code",
   "execution_count": 3,
   "metadata": {},
   "outputs": [
    {
     "name": "stdout",
     "output_type": "stream",
     "text": [
      "[6, 1, 1, 1, 0, 1, 0]\n"
     ]
    }
   ],
   "source": [
    "def count_smaller(arr):\n",
    "    count_lst = []\n",
    "    for idx, i in enumerate(arr):\n",
    "        cnt = 0\n",
    "        for j in arr[idx+1:]:\n",
    "            if i>j:\n",
    "                cnt+=1\n",
    "        count_lst.append(cnt)\n",
    "    return count_lst\n",
    "\n",
    "print(count_smaller([12, 1, 2, 3, 0, 11, 4]))\n",
    "        "
   ]
  },
  {
   "cell_type": "code",
   "execution_count": null,
   "metadata": {},
   "outputs": [],
   "source": [
    "Given an array of non-negative integers. Find the largest multiple of 3 that can be formed from array elements.\n",
    "For example, if the input array is {8, 1, 9}, the output should be “9 8 1”, and if the input array is {8, 1, 7, 6, 0}, \n",
    "output should be “8 7 6 0”"
   ]
  },
  {
   "cell_type": "code",
   "execution_count": null,
   "metadata": {},
   "outputs": [],
   "source": [
    "https://www.geeksforgeeks.org/find-the-largest-number-multiple-of-3/"
   ]
  },
  {
   "cell_type": "code",
   "execution_count": 6,
   "metadata": {},
   "outputs": [
    {
     "name": "stdout",
     "output_type": "stream",
     "text": [
      "8760"
     ]
    }
   ],
   "source": [
    "MAX_SIZE = 10\n",
    "\n",
    "def sortArrayUsingCounts(arr, n):  \n",
    "    count = [0]*MAX_SIZE \n",
    "    for i in range(n): \n",
    "        count[arr[i]] += 1\n",
    " \n",
    "    index = 0\n",
    "    for i in range(MAX_SIZE): \n",
    "        while count[i] > 0: \n",
    "            arr[index] = i \n",
    "            index += 1\n",
    "            count[i] -= 1\n",
    "\n",
    " \n",
    "def removeAndPrintResult(arr, n, ind1, ind2=-1): \n",
    "    for i in range(n-1, -1, -1): \n",
    "        if i != ind1 and i != ind2: \n",
    "            print(arr[i], end=\"\") \n",
    " \n",
    "def largest3Multiple(arr, n): \n",
    "    s = sum(arr) \n",
    "    if s % 3 == 0: \n",
    "        return True\n",
    " \n",
    "    sortArrayUsingCounts(arr, n)  \n",
    "    remainder = s % 3\n",
    "\n",
    "    if remainder == 1: \n",
    "        rem_2 = [0]*2\n",
    "        rem_2[0] = -1; rem_2[1] = -1\n",
    "\n",
    "        for i in range(n): \n",
    "            if arr[i] % 3 == 1: \n",
    "                removeAndPrintResult(arr, n, i) \n",
    "                return True\n",
    "\n",
    "            if arr[i] % 3 == 2: \n",
    "                if rem_2[0] == -1: \n",
    "                    rem_2[0] = i \n",
    "\n",
    "                elif rem_2[1] == -1: \n",
    "                    rem_2[1] = i \n",
    "\n",
    "        if rem_2[0] != -1 and rem_2[1] != -1: \n",
    "            removeAndPrintResult(arr, n, rem_2[0], rem_2[1]) \n",
    "            return True\n",
    "\n",
    "    elif remainder == 2: \n",
    "        rem_1 = [0]*2\n",
    "        rem_1[0] = -1; rem_1[1] = -1\n",
    "\n",
    "        for i in range(n): \n",
    "            if arr[i] % 3 == 2: \n",
    "                removeAndPrintResult(arr, n, i) \n",
    "                return True\n",
    "\n",
    "            if arr[i] % 3 == 1: \n",
    "                if rem_1[0] == -1: \n",
    "                    rem_1[0] = i \n",
    "                elif rem_1[1] == -1: \n",
    "                    rem_1[1] = i \n",
    "        if rem_1[0] != -1 and rem_1[1] != -1: \n",
    "            removeAndPrintResult(arr, n, rem_1[0], rem_1[1]) \n",
    "            return True\n",
    "\n",
    "    print(\"Not possible\") \n",
    "    return False\n",
    "\n",
    "\n",
    "if __name__ == \"__main__\": \n",
    "    arr = [8,1,7, 6, 0] \n",
    "    n = len(arr) \n",
    "    largest3Multiple(arr, n) \n"
   ]
  }
 ],
 "metadata": {
  "kernelspec": {
   "display_name": "Python 3",
   "language": "python",
   "name": "python3"
  },
  "language_info": {
   "codemirror_mode": {
    "name": "ipython",
    "version": 3
   },
   "file_extension": ".py",
   "mimetype": "text/x-python",
   "name": "python",
   "nbconvert_exporter": "python",
   "pygments_lexer": "ipython3",
   "version": "3.7.0"
  }
 },
 "nbformat": 4,
 "nbformat_minor": 2
}
